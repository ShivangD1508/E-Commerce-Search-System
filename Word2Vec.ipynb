{
  "nbformat": 4,
  "nbformat_minor": 0,
  "metadata": {
    "colab": {
      "provenance": []
    },
    "kernelspec": {
      "name": "python3",
      "display_name": "Python 3"
    },
    "language_info": {
      "name": "python"
    }
  },
  "cells": [
    {
      "cell_type": "code",
      "execution_count": 14,
      "metadata": {
        "colab": {
          "base_uri": "https://localhost:8080/"
        },
        "id": "66e9RhVvJpkE",
        "outputId": "9f24a37c-fc61-4854-fce9-a1cb77dc5903"
      },
      "outputs": [
        {
          "output_type": "stream",
          "name": "stdout",
          "text": [
            "Requirement already satisfied: gensim in /usr/local/lib/python3.10/dist-packages (4.3.3)\n",
            "Requirement already satisfied: pandas in /usr/local/lib/python3.10/dist-packages (2.2.2)\n",
            "Requirement already satisfied: nltk in /usr/local/lib/python3.10/dist-packages (3.9.1)\n",
            "Requirement already satisfied: numpy<2.0,>=1.18.5 in /usr/local/lib/python3.10/dist-packages (from gensim) (1.26.4)\n",
            "Requirement already satisfied: scipy<1.14.0,>=1.7.0 in /usr/local/lib/python3.10/dist-packages (from gensim) (1.13.1)\n",
            "Requirement already satisfied: smart-open>=1.8.1 in /usr/local/lib/python3.10/dist-packages (from gensim) (7.0.5)\n",
            "Requirement already satisfied: python-dateutil>=2.8.2 in /usr/local/lib/python3.10/dist-packages (from pandas) (2.8.2)\n",
            "Requirement already satisfied: pytz>=2020.1 in /usr/local/lib/python3.10/dist-packages (from pandas) (2024.2)\n",
            "Requirement already satisfied: tzdata>=2022.7 in /usr/local/lib/python3.10/dist-packages (from pandas) (2024.2)\n",
            "Requirement already satisfied: click in /usr/local/lib/python3.10/dist-packages (from nltk) (8.1.7)\n",
            "Requirement already satisfied: joblib in /usr/local/lib/python3.10/dist-packages (from nltk) (1.4.2)\n",
            "Requirement already satisfied: regex>=2021.8.3 in /usr/local/lib/python3.10/dist-packages (from nltk) (2024.9.11)\n",
            "Requirement already satisfied: tqdm in /usr/local/lib/python3.10/dist-packages (from nltk) (4.66.6)\n",
            "Requirement already satisfied: six>=1.5 in /usr/local/lib/python3.10/dist-packages (from python-dateutil>=2.8.2->pandas) (1.16.0)\n",
            "Requirement already satisfied: wrapt in /usr/local/lib/python3.10/dist-packages (from smart-open>=1.8.1->gensim) (1.16.0)\n"
          ]
        }
      ],
      "source": [
        "pip install gensim pandas nltk\n"
      ]
    },
    {
      "cell_type": "code",
      "source": [
        "import pandas as pd\n",
        "import re\n",
        "from gensim.models import Word2Vec\n",
        "from nltk.tokenize import word_tokenize\n",
        "from nltk.corpus import stopwords\n",
        "import nltk"
      ],
      "metadata": {
        "id": "4X_KIPkYJ0VF"
      },
      "execution_count": 15,
      "outputs": []
    },
    {
      "cell_type": "code",
      "source": [
        "nltk.download('punkt')\n",
        "nltk.download('stopwords')\n"
      ],
      "metadata": {
        "colab": {
          "base_uri": "https://localhost:8080/"
        },
        "id": "t-L1yt7PJ0ZK",
        "outputId": "0734cb63-278a-4154-8d35-9f3a9abe4d03"
      },
      "execution_count": 16,
      "outputs": [
        {
          "output_type": "stream",
          "name": "stderr",
          "text": [
            "[nltk_data] Downloading package punkt to /root/nltk_data...\n",
            "[nltk_data]   Package punkt is already up-to-date!\n",
            "[nltk_data] Downloading package stopwords to /root/nltk_data...\n",
            "[nltk_data]   Package stopwords is already up-to-date!\n"
          ]
        },
        {
          "output_type": "execute_result",
          "data": {
            "text/plain": [
              "True"
            ]
          },
          "metadata": {},
          "execution_count": 16
        }
      ]
    },
    {
      "cell_type": "code",
      "source": [
        "file_path = \"/content/products.csv\""
      ],
      "metadata": {
        "id": "Sw5C_pO3LkgS"
      },
      "execution_count": 17,
      "outputs": []
    },
    {
      "cell_type": "markdown",
      "source": [],
      "metadata": {
        "id": "eN4E_7NkMjZo"
      }
    },
    {
      "cell_type": "markdown",
      "source": [],
      "metadata": {
        "id": "wCua6XiwMjdU"
      }
    },
    {
      "cell_type": "code",
      "source": [
        "data = pd.read_csv(file_path)"
      ],
      "metadata": {
        "id": "F0TAQl8cLkjG"
      },
      "execution_count": 18,
      "outputs": []
    },
    {
      "cell_type": "code",
      "source": [
        "print(\"Dataset Preview:\")\n",
        "print(data.head())"
      ],
      "metadata": {
        "colab": {
          "base_uri": "https://localhost:8080/"
        },
        "id": "E_oYIclOM0ty",
        "outputId": "15eb1206-a945-4888-ab2f-5ea7fadf330c"
      },
      "execution_count": 19,
      "outputs": [
        {
          "output_type": "stream",
          "name": "stdout",
          "text": [
            "Dataset Preview:\n",
            "    _unit_id  relevance  relevance:variance  \\\n",
            "0  711158459       3.67               0.471   \n",
            "1  711158460       4.00               0.000   \n",
            "2  711158461       4.00               0.000   \n",
            "3  711158462       3.67               0.471   \n",
            "4  711158463       3.33               0.471   \n",
            "\n",
            "                                       product_image  \\\n",
            "0  http://thumbs2.ebaystatic.com/d/l225/m/mzvzEUI...   \n",
            "1  http://thumbs3.ebaystatic.com/d/l225/m/mJNDmSy...   \n",
            "2  http://thumbs4.ebaystatic.com/d/l225/m/m10NZXA...   \n",
            "3  http://thumbs2.ebaystatic.com/d/l225/m/mZZXTmA...   \n",
            "4  http://thumbs3.ebaystatic.com/d/l225/m/mzvzEUI...   \n",
            "\n",
            "                                        product_link  \\\n",
            "0  http://www.ebay.com/itm/Sony-PlayStation-4-PS4...   \n",
            "1  http://www.ebay.com/itm/Sony-PlayStation-4-Lat...   \n",
            "2  http://www.ebay.com/itm/Sony-PlayStation-4-PS4...   \n",
            "3  http://www.ebay.com/itm/Sony-PlayStation-4-500...   \n",
            "4  http://www.ebay.com/itm/Sony-PlayStation-4-PS4...   \n",
            "\n",
            "                   product_price  \\\n",
            "0                       $329.98    \n",
            "1                       $324.84    \n",
            "2                       $324.83    \n",
            "3                       $350.00    \n",
            "4  $308.00\\nTrending at\\n$319.99   \n",
            "\n",
            "                                       product_title          query  rank  \\\n",
            "0  Sony PlayStation 4 (PS4) (Latest Model)- 500 G...  playstation 4     1   \n",
            "1  Sony PlayStation 4 (Latest Model)- 500 GB Jet ...  playstation 4     2   \n",
            "2    Sony PlayStation 4 PS4 500 GB Jet Black Console  playstation 4     3   \n",
            "3  Sony - PlayStation 4 500GB The Last of Us Rema...  playstation 4     4   \n",
            "4  Sony PlayStation 4 (PS4) (Latest Model)- 500 G...  playstation 4     5   \n",
            "\n",
            "  source                                                url  \\\n",
            "0   eBay  http://www.ebay.com/sch/i.html?_from=R40&_trks...   \n",
            "1   eBay  http://www.ebay.com/sch/i.html?_from=R40&_trks...   \n",
            "2   eBay  http://www.ebay.com/sch/i.html?_from=R40&_trks...   \n",
            "3   eBay  http://www.ebay.com/sch/i.html?_from=R40&_trks...   \n",
            "4   eBay  http://www.ebay.com/sch/i.html?_from=R40&_trks...   \n",
            "\n",
            "                                 product_description     category  \n",
            "0  The PlayStation 4 system opens the door to an ...  Electronics  \n",
            "1  The PlayStation 4 system opens the door to an ...  Electronics  \n",
            "2  The PlayStation 4 system opens the door to an ...  Electronics  \n",
            "3                                                NaN  Electronics  \n",
            "4  The PlayStation 4 system opens the door to an ...  Electronics  \n"
          ]
        }
      ]
    },
    {
      "cell_type": "code",
      "source": [
        "def preprocess_text(text):\n",
        "    \"\"\"\n",
        "    Function to clean and tokenize text data.\n",
        "    \"\"\"\n",
        "    # Remove special characters and numbers\n",
        "    text = re.sub(r\"[^a-zA-Z\\s]\", \"\", str(text))\n",
        "    # Convert text to lowercase\n",
        "    text = text.lower()\n",
        "    # Tokenize text\n",
        "    tokens = word_tokenize(text)\n",
        "    # Remove stopwords\n",
        "    stop_words = set(stopwords.words('english'))\n",
        "    tokens = [word for word in tokens if word not in stop_words]\n",
        "    return tokens"
      ],
      "metadata": {
        "id": "bE0p2wc9MkpB"
      },
      "execution_count": 20,
      "outputs": []
    },
    {
      "cell_type": "code",
      "source": [
        "print(data.columns)"
      ],
      "metadata": {
        "colab": {
          "base_uri": "https://localhost:8080/"
        },
        "id": "7NpNNp5aMkyw",
        "outputId": "91ee48ec-2f5c-4e5e-95f1-1a3fa4eadbba"
      },
      "execution_count": 21,
      "outputs": [
        {
          "output_type": "stream",
          "name": "stdout",
          "text": [
            "Index(['_unit_id', 'relevance', 'relevance:variance', 'product_image',\n",
            "       'product_link', 'product_price', 'product_title', 'query', 'rank',\n",
            "       'source', 'url', 'product_description', 'category'],\n",
            "      dtype='object')\n"
          ]
        }
      ]
    },
    {
      "cell_type": "code",
      "source": [
        "# Extract the relevant column\n",
        "text_data = data['product_description'].dropna().tolist()\n",
        "\n"
      ],
      "metadata": {
        "id": "G3WzEchMzR8n"
      },
      "execution_count": 23,
      "outputs": []
    },
    {
      "cell_type": "code",
      "source": [
        "tokenized_text = [str(sentence).lower().split() for sentence in text_data]"
      ],
      "metadata": {
        "id": "QK73IA9vzR_2"
      },
      "execution_count": 24,
      "outputs": []
    },
    {
      "cell_type": "code",
      "source": [
        "model = Word2Vec(sentences=tokenized_text, vector_size=100, window=5, min_count=1, workers=4)"
      ],
      "metadata": {
        "id": "yemoi_iiy9xV"
      },
      "execution_count": 25,
      "outputs": []
    },
    {
      "cell_type": "code",
      "source": [
        "print(\"\\nSample vocabulary:\")\n",
        "print(list(model.wv.index_to_key)[:10])"
      ],
      "metadata": {
        "colab": {
          "base_uri": "https://localhost:8080/"
        },
        "id": "rSQgB9YXSDK9",
        "outputId": "563f7555-9212-4c41-e747-9e1eef490e68"
      },
      "execution_count": 26,
      "outputs": [
        {
          "output_type": "stream",
          "name": "stdout",
          "text": [
            "\n",
            "Sample vocabulary:\n",
            "['the', 'and', 'a', 'to', 'with', 'of', 'for', 'is', 'in', 'this']\n"
          ]
        }
      ]
    },
    {
      "cell_type": "code",
      "source": [
        "from sklearn.decomposition import PCA\n",
        "vocab = list(model.wv.index_to_key)[:50]\n",
        "word_vectors = model.wv[vocab]\n",
        "pca = PCA(n_components=2)\n",
        "reduced_vectors = pca.fit_transform(word_vectors)"
      ],
      "metadata": {
        "id": "T54zZpnoSDNd"
      },
      "execution_count": 32,
      "outputs": []
    },
    {
      "cell_type": "code",
      "source": [
        "import matplotlib.pyplot as plt\n",
        "\n",
        "# Ensure reduced_vectors and vocab are already defined\n",
        "# Assuming reduced_vectors is the result of PCA and vocab contains the words\n",
        "\n",
        "plt.figure(figsize=(10, 6))\n",
        "\n",
        "# Loop through the words and their corresponding reduced vectors\n",
        "for i, word in enumerate(vocab):\n",
        "    # Plot the word's reduced vector as a scatter point\n",
        "    plt.scatter(reduced_vectors[i, 0], reduced_vectors[i, 1], marker='x', color='blue')\n",
        "\n",
        "    # Annotate the plot with the word\n",
        "    plt.text(reduced_vectors[i, 0] + 0.05, reduced_vectors[i, 1], word, fontsize=9)\n",
        "\n",
        "# Add title to the plot\n",
        "plt.title(\"Word Vector Visualization\")\n",
        "\n",
        "# Show the plot\n",
        "plt.show()\n"
      ],
      "metadata": {
        "colab": {
          "base_uri": "https://localhost:8080/",
          "height": 545
        },
        "id": "PDfd8KC5RdpP",
        "outputId": "7154d2b0-6c64-407d-83b0-86e5b9f96f83"
      },
      "execution_count": 36,
      "outputs": [
        {
          "output_type": "display_data",
          "data": {
            "text/plain": [
              "<Figure size 1000x600 with 1 Axes>"
            ],
            "image/png": "[encoded data removed]"
          },
          "metadata": {}
        }
      ]
    },
    {
      "cell_type": "code",
      "source": [],
      "metadata": {
        "id": "cHJ1c7kA3o-s"
      },
      "execution_count": null,
      "outputs": []
    },
    {
      "cell_type": "code",
      "source": [],
      "metadata": {
        "id": "qXKTY3P53pDz"
      },
      "execution_count": null,
      "outputs": []
    },
    {
      "cell_type": "code",
      "source": [],
      "metadata": {
        "id": "lPrZB0lU2kIH"
      },
      "execution_count": null,
      "outputs": []
    },
    {
      "cell_type": "code",
      "source": [],
      "metadata": {
        "id": "19TNPGqp2kLG"
      },
      "execution_count": null,
      "outputs": []
    },
    {
      "cell_type": "code",
      "source": [],
      "metadata": {
        "id": "UyCxddMM2kON"
      },
      "execution_count": null,
      "outputs": []
    }
  ]
}